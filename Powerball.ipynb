{
 "cells": [
  {
   "cell_type": "code",
   "execution_count": 1,
   "metadata": {
    "collapsed": false
   },
   "outputs": [
    {
     "name": "stderr",
     "output_type": "stream",
     "text": [
      "C:\\Users\\osherouse\\bin\\Miniconda3\\lib\\site-packages\\matplotlib\\__init__.py:872: UserWarning: axes.color_cycle is deprecated and replaced with axes.prop_cycle; please use the latter.\n",
      "  warnings.warn(self.msg_depr % (key, alt_key))\n"
     ]
    }
   ],
   "source": [
    "%matplotlib inline\n",
    "\n",
    "import collections\n",
    "import random\n",
    "\n",
    "import numpy as np\n",
    "import pandas as pd\n",
    "\n",
    "from matplotlib import pyplot as plt\n",
    "\n",
    "\n",
    "random.seed(\"The lottery is a tax on dumb people\")\n",
    "plt.style.use('blog') # Comment this line to run yourself"
   ]
  },
  {
   "cell_type": "markdown",
   "metadata": {},
   "source": [
    "# Expected Value"
   ]
  },
  {
   "cell_type": "code",
   "execution_count": 2,
   "metadata": {
    "collapsed": false
   },
   "outputs": [],
   "source": [
    "outcomes = pd.DataFrame([\n",
    "        [1500000000, 292201338],\n",
    "        [1000000, 11688053.52],\n",
    "        [50000, 913129.18],\n",
    "        [100, 36525.17],\n",
    "        [100, 14494.11],\n",
    "        [7, 579.76],\n",
    "        [7, 701.33],\n",
    "        [4, 91.98],\n",
    "        [4, 38.32],\n",
    "        ],\n",
    "        columns=['value', 'odds'])\n",
    "outcomes[\"value_print\"] = outcomes[\"value\"].apply(\"${:,.0f}\".format)\n",
    "outcomes['odds_print'] = outcomes['odds'].apply(\"1 in {:,.02f}\".format)"
   ]
  },
  {
   "cell_type": "code",
   "execution_count": 3,
   "metadata": {
    "collapsed": false
   },
   "outputs": [
    {
     "data": {
      "text/html": [
       "<div>\n",
       "<table border=\"1\" class=\"dataframe\">\n",
       "  <thead>\n",
       "    <tr style=\"text-align: right;\">\n",
       "      <th></th>\n",
       "      <th>Outcome</th>\n",
       "      <th>Odds</th>\n",
       "    </tr>\n",
       "  </thead>\n",
       "  <tbody>\n",
       "    <tr>\n",
       "      <th>0</th>\n",
       "      <td>$1,500,000,000</td>\n",
       "      <td>1 in 292,201,338.00</td>\n",
       "    </tr>\n",
       "    <tr>\n",
       "      <th>1</th>\n",
       "      <td>$1,000,000</td>\n",
       "      <td>1 in 11,688,053.52</td>\n",
       "    </tr>\n",
       "    <tr>\n",
       "      <th>2</th>\n",
       "      <td>$50,000</td>\n",
       "      <td>1 in 913,129.18</td>\n",
       "    </tr>\n",
       "    <tr>\n",
       "      <th>3</th>\n",
       "      <td>$100</td>\n",
       "      <td>1 in 36,525.17</td>\n",
       "    </tr>\n",
       "    <tr>\n",
       "      <th>4</th>\n",
       "      <td>$100</td>\n",
       "      <td>1 in 14,494.11</td>\n",
       "    </tr>\n",
       "    <tr>\n",
       "      <th>5</th>\n",
       "      <td>$7</td>\n",
       "      <td>1 in 579.76</td>\n",
       "    </tr>\n",
       "    <tr>\n",
       "      <th>6</th>\n",
       "      <td>$7</td>\n",
       "      <td>1 in 701.33</td>\n",
       "    </tr>\n",
       "    <tr>\n",
       "      <th>7</th>\n",
       "      <td>$4</td>\n",
       "      <td>1 in 91.98</td>\n",
       "    </tr>\n",
       "    <tr>\n",
       "      <th>8</th>\n",
       "      <td>$4</td>\n",
       "      <td>1 in 38.32</td>\n",
       "    </tr>\n",
       "  </tbody>\n",
       "</table>\n",
       "</div>"
      ],
      "text/plain": [
       "          Outcome                 Odds\n",
       "0  $1,500,000,000  1 in 292,201,338.00\n",
       "1      $1,000,000   1 in 11,688,053.52\n",
       "2         $50,000      1 in 913,129.18\n",
       "3            $100       1 in 36,525.17\n",
       "4            $100       1 in 14,494.11\n",
       "5              $7          1 in 579.76\n",
       "6              $7          1 in 701.33\n",
       "7              $4           1 in 91.98\n",
       "8              $4           1 in 38.32"
      ]
     },
     "execution_count": 3,
     "metadata": {},
     "output_type": "execute_result"
    }
   ],
   "source": [
    "(outcomes\n",
    " [[\"value_print\", \"odds_print\"]]\n",
    " .rename(columns={\"value_print\": \"Outcome\",\n",
    "                  \"odds_print\": \"Odds\"})\n",
    " )"
   ]
  },
  {
   "cell_type": "code",
   "execution_count": 4,
   "metadata": {
    "collapsed": false
   },
   "outputs": [
    {
     "name": "stdout",
     "output_type": "stream",
     "text": [
      "Expected Value Contribution\n",
      "0    5.133447\n",
      "1    0.085557\n",
      "2    0.054757\n",
      "3    0.002738\n",
      "4    0.006899\n",
      "5    0.012074\n",
      "6    0.009981\n",
      "7    0.043488\n",
      "8    0.104384\n"
     ]
    }
   ],
   "source": [
    "print(\"Expected Value Contribution\")\n",
    "\n",
    "print((outcomes['value'] / outcomes['odds']).to_string())"
   ]
  },
  {
   "cell_type": "code",
   "execution_count": 5,
   "metadata": {
    "collapsed": false
   },
   "outputs": [
    {
     "name": "stdout",
     "output_type": "stream",
     "text": [
      "$5.45\n"
     ]
    }
   ],
   "source": [
    "expected_value = (outcomes['value'] / outcomes['odds']).sum()\n",
    "print(\"${:.02f}\".format(expected_value))"
   ]
  },
  {
   "cell_type": "markdown",
   "metadata": {},
   "source": [
    "# Powerplay Expected Value"
   ]
  },
  {
   "cell_type": "code",
   "execution_count": 6,
   "metadata": {
    "collapsed": true
   },
   "outputs": [],
   "source": [
    "powerplay = pd.DataFrame(\n",
    "    [[5, 21],\n",
    "     [4, 14],\n",
    "     [3, 3.23],\n",
    "     [2, 1.75]\n",
    "    ],\n",
    "    columns=[\"multiplier\", \"odds\"]\n",
    ")\n",
    "powerplay['odds_print'] = powerplay['odds'].apply(\"1 in {:,.02f}\".format)"
   ]
  },
  {
   "cell_type": "code",
   "execution_count": 7,
   "metadata": {
    "collapsed": false
   },
   "outputs": [
    {
     "data": {
      "text/html": [
       "<div>\n",
       "<table border=\"1\" class=\"dataframe\">\n",
       "  <thead>\n",
       "    <tr style=\"text-align: right;\">\n",
       "      <th></th>\n",
       "      <th>Multiplier</th>\n",
       "      <th>Odds</th>\n",
       "    </tr>\n",
       "  </thead>\n",
       "  <tbody>\n",
       "    <tr>\n",
       "      <th>0</th>\n",
       "      <td>5</td>\n",
       "      <td>1 in 21.00</td>\n",
       "    </tr>\n",
       "    <tr>\n",
       "      <th>1</th>\n",
       "      <td>4</td>\n",
       "      <td>1 in 14.00</td>\n",
       "    </tr>\n",
       "    <tr>\n",
       "      <th>2</th>\n",
       "      <td>3</td>\n",
       "      <td>1 in 3.23</td>\n",
       "    </tr>\n",
       "    <tr>\n",
       "      <th>3</th>\n",
       "      <td>2</td>\n",
       "      <td>1 in 1.75</td>\n",
       "    </tr>\n",
       "  </tbody>\n",
       "</table>\n",
       "</div>"
      ],
      "text/plain": [
       "   Multiplier        Odds\n",
       "0           5  1 in 21.00\n",
       "1           4  1 in 14.00\n",
       "2           3   1 in 3.23\n",
       "3           2   1 in 1.75"
      ]
     },
     "execution_count": 7,
     "metadata": {},
     "output_type": "execute_result"
    }
   ],
   "source": [
    "(powerplay\n",
    " [[\"multiplier\", \"odds_print\"]]\n",
    "  .rename(columns={\"multiplier\": \"Multiplier\",\n",
    "                  \"odds_print\": \"Odds\"})\n",
    " )"
   ]
  },
  {
   "cell_type": "code",
   "execution_count": 8,
   "metadata": {
    "collapsed": false
   },
   "outputs": [
    {
     "name": "stdout",
     "output_type": "stream",
     "text": [
      "Expected Value (Powerplay): $5.91\n"
     ]
    }
   ],
   "source": [
    "expected_multiplier = (powerplay['multiplier'] / powerplay['odds']).sum()\n",
    "expected_value_powerplay = (\n",
    "    (outcomes['value'].loc[2:] / outcomes['odds']).sum() * expected_multiplier +\n",
    "    2000000 / outcomes['odds'][1] +\n",
    "    outcomes['value'][0] / outcomes['odds'][0]\n",
    "    )\n",
    "print(\"Expected Value (Powerplay): ${:.02f}\".format(expected_value_powerplay))"
   ]
  },
  {
   "cell_type": "markdown",
   "metadata": {
    "collapsed": true
   },
   "source": [
    "# Simulation"
   ]
  },
  {
   "cell_type": "code",
   "execution_count": 9,
   "metadata": {
    "collapsed": true
   },
   "outputs": [],
   "source": [
    "WHITE = tuple(range(1, 70))\n",
    "RED = tuple(range(1, 27))\n",
    "MULTIPLIER = (5,) * 2 + (4,) * 3 + (3,) * 13 + (2,) * 24\n",
    "# They don't say how many of each ball there are but these give us the right odds\n",
    "\n",
    "Draw = collections.namedtuple('Draw', ['white', 'red'])"
   ]
  },
  {
   "cell_type": "code",
   "execution_count": 10,
   "metadata": {
    "collapsed": true
   },
   "outputs": [],
   "source": [
    "def get_random_draw():\n",
    "    return Draw(tuple(sorted(random.sample(WHITE, 5))), random.choice(RED))\n",
    "\n",
    "def get_winnings(ticket, winning):\n",
    "    correct = sum(1 for i in ticket.white if i in set(winning.white))\n",
    "    if ticket.red == winning.red:\n",
    "        return [4, 4, 7, 100, 50000, 1500000000][correct]\n",
    "    return [0, 0, 0, 7, 100, 1000000][correct]"
   ]
  },
  {
   "cell_type": "code",
   "execution_count": 11,
   "metadata": {
    "collapsed": true
   },
   "outputs": [],
   "source": [
    "def apply_powerplay(winnings, multiplier):\n",
    "    if multiplier is None:\n",
    "        return winnings\n",
    "    if winnings < 1000000:\n",
    "        return winnings * multiplier\n",
    "    if winnings == 1000000:\n",
    "        return 2000000\n",
    "    return winnings"
   ]
  },
  {
   "cell_type": "code",
   "execution_count": 12,
   "metadata": {
    "collapsed": false
   },
   "outputs": [],
   "source": [
    "def simulate_play(tickets=1, powerplay=False):\n",
    "    winning = get_random_draw()\n",
    "    multiplier = None if not powerplay else random.choice(MULTIPLIER) \n",
    "    my_tickets = set()\n",
    "    while len(my_tickets) < tickets:\n",
    "        my_tickets.add(get_random_draw())\n",
    "    return sum(apply_powerplay(get_winnings(i, winning), multiplier)\n",
    "               for i in my_tickets)"
   ]
  },
  {
   "cell_type": "code",
   "execution_count": 13,
   "metadata": {
    "collapsed": true
   },
   "outputs": [],
   "source": [
    "def run_simulation(tickets=1, tries=100000, powerplay=False):\n",
    "    results = pd.DataFrame({'winnings': list(simulate_play(tickets, powerplay)\n",
    "                            for i in range(tries))})\n",
    "    results['cost'] = 3 * tickets if powerplay else 2 * tickets \n",
    "    results['profit'] = results['winnings'] - results['cost']\n",
    "    results['roi'] = results['winnings'] / results['cost'] - 1\n",
    "    return results, pd.DataFrame([results.median(),\n",
    "                                  results.mean(),\n",
    "                                  results.quantile(.05),\n",
    "                                  results.quantile(.95)\n",
    "                                 ],\n",
    "                                 index=[\"Median Outcome\", \"Mean Outcome\",\n",
    "                                        \"5th Percentile\", \"95th Percentile\"]\n",
    "                                )"
   ]
  },
  {
   "cell_type": "code",
   "execution_count": 14,
   "metadata": {
    "collapsed": false
   },
   "outputs": [],
   "source": [
    "results_one_ticket, summary_one_ticket = run_simulation()"
   ]
  },
  {
   "cell_type": "code",
   "execution_count": 29,
   "metadata": {
    "collapsed": false
   },
   "outputs": [
    {
     "data": {
      "image/png": "[encoded data removed]",
      "text/plain": [
       "<matplotlib.figure.Figure at 0xb176f60>"
      ]
     },
     "metadata": {},
     "output_type": "display_data"
    }
   ],
   "source": [
    "wingroups = results_one_ticket.groupby(\"winnings\").count()['cost']\n",
    "fig, ax = plt.subplots()\n",
    "ax.bar(np.arange(len(wingroups)) + .1, wingroups.values)\n",
    "\n",
    "for i, j in enumerate(wingroups):\n",
    "    ax.text(i + .5, j, \"{:,.0f}\".format(j),\n",
    "            va='bottom', ha='center')\n",
    "\n",
    "for i in 'top', 'left', 'right':\n",
    "    ax.spines[i].set_visible(False)\n",
    "    \n",
    "ax.set_xticks(np.arange(4) + .5)\n",
    "ax.set_xticklabels(\"${:.0f}\".format(i) for i in wingroups.index)\n",
    "ax.set_xlabel(\"Winnings\")\n",
    "\n",
    "ax.set_yticks([])\n",
    "ax.set_ylabel(\"Frequency (100,000 trials)\")\n",
    "\n",
    "ax.set_title(\"One-Ticket Simulated Winnings, no PowerPlay\\n\")\n",
    "\n",
    "\n",
    "for i in 'top', 'left', 'right':\n",
    "    ax.spines[i].set_visible(False)\n",
    "\n",
    "fig.set_size_inches(8, 6)\n",
    "fig.text(1, 0, \"OliverSherouse.com\",\n",
    "         va='bottom', ha='right', size='small')\n",
    "fig.tight_layout()\n",
    "plt.savefig(\"one_ticket_no_powerplay.png\")"
   ]
  },
  {
   "cell_type": "code",
   "execution_count": 16,
   "metadata": {
    "collapsed": false
   },
   "outputs": [
    {
     "data": {
      "text/html": [
       "<div>\n",
       "<table border=\"1\" class=\"dataframe\">\n",
       "  <thead>\n",
       "    <tr style=\"text-align: right;\">\n",
       "      <th></th>\n",
       "      <th>winnings</th>\n",
       "      <th>cost</th>\n",
       "      <th>profit</th>\n",
       "      <th>roi</th>\n",
       "    </tr>\n",
       "  </thead>\n",
       "  <tbody>\n",
       "    <tr>\n",
       "      <th>Median Outcome</th>\n",
       "      <td>0.0000</td>\n",
       "      <td>2</td>\n",
       "      <td>-2.0000</td>\n",
       "      <td>-1.0000</td>\n",
       "    </tr>\n",
       "    <tr>\n",
       "      <th>Mean Outcome</th>\n",
       "      <td>0.1792</td>\n",
       "      <td>2</td>\n",
       "      <td>-1.8208</td>\n",
       "      <td>-0.9104</td>\n",
       "    </tr>\n",
       "    <tr>\n",
       "      <th>5th Percentile</th>\n",
       "      <td>0.0000</td>\n",
       "      <td>2</td>\n",
       "      <td>-2.0000</td>\n",
       "      <td>-1.0000</td>\n",
       "    </tr>\n",
       "    <tr>\n",
       "      <th>95th Percentile</th>\n",
       "      <td>0.0000</td>\n",
       "      <td>2</td>\n",
       "      <td>-2.0000</td>\n",
       "      <td>-1.0000</td>\n",
       "    </tr>\n",
       "  </tbody>\n",
       "</table>\n",
       "</div>"
      ],
      "text/plain": [
       "                 winnings  cost  profit     roi\n",
       "Median Outcome     0.0000     2 -2.0000 -1.0000\n",
       "Mean Outcome       0.1792     2 -1.8208 -0.9104\n",
       "5th Percentile     0.0000     2 -2.0000 -1.0000\n",
       "95th Percentile    0.0000     2 -2.0000 -1.0000"
      ]
     },
     "execution_count": 16,
     "metadata": {},
     "output_type": "execute_result"
    }
   ],
   "source": [
    "summary_one_ticket"
   ]
  },
  {
   "cell_type": "code",
   "execution_count": 17,
   "metadata": {
    "collapsed": true
   },
   "outputs": [],
   "source": [
    "results_powerplay, summary_powerplay = run_simulation(powerplay=True)"
   ]
  },
  {
   "cell_type": "code",
   "execution_count": 18,
   "metadata": {
    "collapsed": false
   },
   "outputs": [
    {
     "data": {
      "image/png": "[encoded data removed]",
      "text/plain": [
       "<matplotlib.figure.Figure at 0x80bc5f8>"
      ]
     },
     "metadata": {},
     "output_type": "display_data"
    }
   ],
   "source": [
    "wingroups = results_powerplay.groupby(\"winnings\").count()['cost']\n",
    "fig, ax = plt.subplots()\n",
    "ax.bar(np.arange(len(wingroups)) + .1, wingroups.values)\n",
    "\n",
    "for i, j in enumerate(wingroups):\n",
    "    ax.text(i + .5, j, \"{:,.0f}\".format(j),\n",
    "            va='bottom', ha='center', size='small')\n",
    "\n",
    "for i in 'top', 'left', 'right':\n",
    "    ax.spines[i].set_visible(False)\n",
    "    \n",
    "ax.set_xticks(np.arange(len(wingroups)) + .5)\n",
    "ax.set_xticklabels(\"${:.0f}\".format(i) for i in wingroups.index)\n",
    "ax.set_xlabel(\"Winnings\")\n",
    "\n",
    "ax.set_yticks([])\n",
    "ax.set_ylabel(\"Frequency (100,000 trials)\")\n",
    "\n",
    "ax.set_title(\"One-Ticket Simulated Winnings, with PowerPlay\\n\")\n",
    "\n",
    "\n",
    "fig.set_size_inches(8, 6)\n",
    "fig.text(1, 0, \"OliverSherouse.com\",\n",
    "         va='bottom', ha='right', size='small')\n",
    "fig.tight_layout()\n",
    "plt.savefig(\"one_ticket_with_powerplay.png\")"
   ]
  },
  {
   "cell_type": "code",
   "execution_count": 19,
   "metadata": {
    "collapsed": false
   },
   "outputs": [
    {
     "data": {
      "text/plain": [
       "winnings\n",
       "0      96078\n",
       "8       2040\n",
       "12      1139\n",
       "14       176\n",
       "16       271\n",
       "20       164\n",
       "21        91\n",
       "28        18\n",
       "35        12\n",
       "200        6\n",
       "300        4\n",
       "400        1\n",
       "Name: cost, dtype: int64"
      ]
     },
     "execution_count": 19,
     "metadata": {},
     "output_type": "execute_result"
    }
   ],
   "source": [
    "results_powerplay.groupby(\"winnings\").count()['cost']"
   ]
  },
  {
   "cell_type": "code",
   "execution_count": 20,
   "metadata": {
    "collapsed": false
   },
   "outputs": [
    {
     "data": {
      "text/html": [
       "<div>\n",
       "<table border=\"1\" class=\"dataframe\">\n",
       "  <thead>\n",
       "    <tr style=\"text-align: right;\">\n",
       "      <th></th>\n",
       "      <th>winnings</th>\n",
       "      <th>cost</th>\n",
       "      <th>profit</th>\n",
       "      <th>roi</th>\n",
       "    </tr>\n",
       "  </thead>\n",
       "  <tbody>\n",
       "    <tr>\n",
       "      <th>Median Outcome</th>\n",
       "      <td>0.00000</td>\n",
       "      <td>3</td>\n",
       "      <td>-3.00000</td>\n",
       "      <td>-1.000000</td>\n",
       "    </tr>\n",
       "    <tr>\n",
       "      <th>Mean Outcome</th>\n",
       "      <td>0.45703</td>\n",
       "      <td>3</td>\n",
       "      <td>-2.54297</td>\n",
       "      <td>-0.847657</td>\n",
       "    </tr>\n",
       "    <tr>\n",
       "      <th>5th Percentile</th>\n",
       "      <td>0.00000</td>\n",
       "      <td>3</td>\n",
       "      <td>-3.00000</td>\n",
       "      <td>-1.000000</td>\n",
       "    </tr>\n",
       "    <tr>\n",
       "      <th>95th Percentile</th>\n",
       "      <td>0.00000</td>\n",
       "      <td>3</td>\n",
       "      <td>-3.00000</td>\n",
       "      <td>-1.000000</td>\n",
       "    </tr>\n",
       "  </tbody>\n",
       "</table>\n",
       "</div>"
      ],
      "text/plain": [
       "                 winnings  cost   profit       roi\n",
       "Median Outcome    0.00000     3 -3.00000 -1.000000\n",
       "Mean Outcome      0.45703     3 -2.54297 -0.847657\n",
       "5th Percentile    0.00000     3 -3.00000 -1.000000\n",
       "95th Percentile   0.00000     3 -3.00000 -1.000000"
      ]
     },
     "execution_count": 20,
     "metadata": {},
     "output_type": "execute_result"
    }
   ],
   "source": [
    "summary_powerplay"
   ]
  },
  {
   "cell_type": "code",
   "execution_count": 21,
   "metadata": {
    "collapsed": false
   },
   "outputs": [
    {
     "name": "stdout",
     "output_type": "stream",
     "text": [
      "Running with 1 tickets\n",
      "Running with 2 tickets\n",
      "Running with 5 tickets\n",
      "Running with 10 tickets\n",
      "Running with 15 tickets\n",
      "Running with 20 tickets\n",
      "Running with 25 tickets\n",
      "Running with 30 tickets\n",
      "Running with 40 tickets\n",
      "Running with 50 tickets\n"
     ]
    }
   ],
   "source": [
    "num_tickets = np.array([1, 2, 5, 10, 15, 20, 25, 30, 40, 50])\n",
    "\n",
    "tickets_results = []\n",
    "tickets_powerplay = []\n",
    "for tickets in num_tickets:\n",
    "    print(\"Running with {} tickets\".format(tickets), flush=True)\n",
    "    results = run_simulation(tickets)[1]\n",
    "    results['tickets'] = tickets\n",
    "    tickets_results.append(results.set_index('tickets', append=True))\n",
    "    results = run_simulation(tickets, powerplay=True)[1]\n",
    "    results['tickets'] = tickets\n",
    "    tickets_powerplay.append(results.set_index('tickets', append=True))\n",
    "tickets_results = pd.concat(tickets_results)\n",
    "tickets_powerplay = pd.concat(tickets_powerplay)"
   ]
  },
  {
   "cell_type": "code",
   "execution_count": 30,
   "metadata": {
    "collapsed": false
   },
   "outputs": [
    {
     "data": {
      "image/png": "[encoded data removed]",
      "text/plain": [
       "<matplotlib.figure.Figure at 0xb143128>"
      ]
     },
     "metadata": {},
     "output_type": "display_data"
    }
   ],
   "source": [
    "fig, ax = plt.subplots()\n",
    "ax.plot(num_tickets, tickets_results.xs(\"Median Outcome\")['cost'],\n",
    "        color='grey', label=\"Break Even\", ls='--')\n",
    "ax.plot(num_tickets, tickets_results.xs(\"Median Outcome\")['winnings'],\n",
    "        label=\"Median Outcome\")\n",
    "ax.fill_between(num_tickets,\n",
    "                tickets_results.xs(\"5th Percentile\")['winnings'],\n",
    "                tickets_results.xs(\"95th Percentile\")['winnings'],\n",
    "                alpha=0.3,\n",
    "                label='5th-95th Percentile'\n",
    "               )\n",
    "ax.set_yticklabels(\"${:.0f}\".format(i) for i in ax.get_yticks())\n",
    "ax.set_ylabel(\"Winnings\")\n",
    "ax.set_xlabel(\"Tickets Bought\")\n",
    "\n",
    "ax.set_title(\"Powerball Simulated Winnings, no PowerPlay\")\n",
    "ax.legend(loc=2)\n",
    "\n",
    "fig.set_size_inches(8, 6)\n",
    "\n",
    "for i in 'top', 'right':\n",
    "    ax.spines[i].set_visible(False)\n",
    "\n",
    "\n",
    "fig.text(1, 0, \"OliverSherouse.com\",\n",
    "         va='bottom', ha='right', size='small')\n",
    "fig.tight_layout()\n",
    "fig.savefig(\"powerball_no_powerplay.png\")"
   ]
  },
  {
   "cell_type": "code",
   "execution_count": 31,
   "metadata": {
    "collapsed": false
   },
   "outputs": [
    {
     "data": {
      "image/png": "[encoded data removed]",
      "text/plain": [
       "<matplotlib.figure.Figure at 0xb2abb00>"
      ]
     },
     "metadata": {},
     "output_type": "display_data"
    }
   ],
   "source": [
    "fig, ax = plt.subplots()\n",
    "ax.plot(num_tickets, tickets_powerplay.xs(\"Median Outcome\")['cost'],\n",
    "        color='grey', label=\"Break Even\", ls='--')\n",
    "ax.plot(num_tickets, tickets_powerplay.xs(\"Median Outcome\")['winnings'],\n",
    "        label=\"Median Outcome\")\n",
    "ax.fill_between(num_tickets,\n",
    "                tickets_powerplay.xs(\"5th Percentile\")['winnings'],\n",
    "                tickets_powerplay.xs(\"95th Percentile\")['winnings'],\n",
    "                alpha=0.3,\n",
    "                label='5th-95th Percentile'\n",
    "               )\n",
    "ax.set_ybound(0, 150)\n",
    "ax.set_yticks(range(0, 151, 30))\n",
    "ax.set_yticklabels(\"${:.0f}\".format(i) for i in ax.get_yticks())\n",
    "ax.set_ylabel(\"Winnings\")\n",
    "ax.set_xlabel(\"Tickets Bought\")\n",
    "\n",
    "ax.set_title(\"Powerball Simulated Winnings, with PowerPlay\")\n",
    "ax.legend(loc=2)\n",
    "\n",
    "for i in 'top', 'right':\n",
    "    ax.spines[i].set_visible(False)\n",
    "\n",
    "\n",
    "fig.set_size_inches(8, 6)\n",
    "fig.text(1, 0, \"OliverSherouse.com\",\n",
    "         va='bottom', ha='right', size='small')\n",
    "fig.tight_layout()\n",
    "fig.savefig(\"powerball_with_powerplay.png\")"
   ]
  },
  {
   "cell_type": "code",
   "execution_count": 24,
   "metadata": {
    "collapsed": false
   },
   "outputs": [
    {
     "data": {
      "text/html": [
       "<div>\n",
       "<table border=\"1\" class=\"dataframe\">\n",
       "  <thead>\n",
       "    <tr style=\"text-align: right;\">\n",
       "      <th></th>\n",
       "      <th>winnings</th>\n",
       "      <th>cost</th>\n",
       "      <th>profit</th>\n",
       "      <th>roi</th>\n",
       "    </tr>\n",
       "    <tr>\n",
       "      <th>tickets</th>\n",
       "      <th></th>\n",
       "      <th></th>\n",
       "      <th></th>\n",
       "      <th></th>\n",
       "    </tr>\n",
       "  </thead>\n",
       "  <tbody>\n",
       "    <tr>\n",
       "      <th>1</th>\n",
       "      <td>0</td>\n",
       "      <td>2</td>\n",
       "      <td>-2</td>\n",
       "      <td>-1.000000</td>\n",
       "    </tr>\n",
       "    <tr>\n",
       "      <th>2</th>\n",
       "      <td>0</td>\n",
       "      <td>4</td>\n",
       "      <td>-4</td>\n",
       "      <td>-1.000000</td>\n",
       "    </tr>\n",
       "    <tr>\n",
       "      <th>5</th>\n",
       "      <td>0</td>\n",
       "      <td>10</td>\n",
       "      <td>-10</td>\n",
       "      <td>-1.000000</td>\n",
       "    </tr>\n",
       "    <tr>\n",
       "      <th>10</th>\n",
       "      <td>0</td>\n",
       "      <td>20</td>\n",
       "      <td>-20</td>\n",
       "      <td>-1.000000</td>\n",
       "    </tr>\n",
       "    <tr>\n",
       "      <th>15</th>\n",
       "      <td>0</td>\n",
       "      <td>30</td>\n",
       "      <td>-30</td>\n",
       "      <td>-1.000000</td>\n",
       "    </tr>\n",
       "    <tr>\n",
       "      <th>20</th>\n",
       "      <td>4</td>\n",
       "      <td>40</td>\n",
       "      <td>-36</td>\n",
       "      <td>-0.900000</td>\n",
       "    </tr>\n",
       "    <tr>\n",
       "      <th>25</th>\n",
       "      <td>4</td>\n",
       "      <td>50</td>\n",
       "      <td>-46</td>\n",
       "      <td>-0.920000</td>\n",
       "    </tr>\n",
       "    <tr>\n",
       "      <th>30</th>\n",
       "      <td>4</td>\n",
       "      <td>60</td>\n",
       "      <td>-56</td>\n",
       "      <td>-0.933333</td>\n",
       "    </tr>\n",
       "    <tr>\n",
       "      <th>40</th>\n",
       "      <td>7</td>\n",
       "      <td>80</td>\n",
       "      <td>-73</td>\n",
       "      <td>-0.912500</td>\n",
       "    </tr>\n",
       "    <tr>\n",
       "      <th>50</th>\n",
       "      <td>8</td>\n",
       "      <td>100</td>\n",
       "      <td>-92</td>\n",
       "      <td>-0.920000</td>\n",
       "    </tr>\n",
       "  </tbody>\n",
       "</table>\n",
       "</div>"
      ],
      "text/plain": [
       "         winnings  cost  profit       roi\n",
       "tickets                                  \n",
       "1               0     2      -2 -1.000000\n",
       "2               0     4      -4 -1.000000\n",
       "5               0    10     -10 -1.000000\n",
       "10              0    20     -20 -1.000000\n",
       "15              0    30     -30 -1.000000\n",
       "20              4    40     -36 -0.900000\n",
       "25              4    50     -46 -0.920000\n",
       "30              4    60     -56 -0.933333\n",
       "40              7    80     -73 -0.912500\n",
       "50              8   100     -92 -0.920000"
      ]
     },
     "execution_count": 24,
     "metadata": {},
     "output_type": "execute_result"
    }
   ],
   "source": [
    "tickets_results.xs(\"Median Outcome\").sort_values(\"profit\", ascending=False)"
   ]
  },
  {
   "cell_type": "code",
   "execution_count": 25,
   "metadata": {
    "collapsed": false
   },
   "outputs": [
    {
     "data": {
      "text/html": [
       "<div>\n",
       "<table border=\"1\" class=\"dataframe\">\n",
       "  <thead>\n",
       "    <tr style=\"text-align: right;\">\n",
       "      <th></th>\n",
       "      <th>winnings</th>\n",
       "      <th>cost</th>\n",
       "      <th>profit</th>\n",
       "      <th>roi</th>\n",
       "    </tr>\n",
       "    <tr>\n",
       "      <th>tickets</th>\n",
       "      <th></th>\n",
       "      <th></th>\n",
       "      <th></th>\n",
       "      <th></th>\n",
       "    </tr>\n",
       "  </thead>\n",
       "  <tbody>\n",
       "    <tr>\n",
       "      <th>1</th>\n",
       "      <td>0</td>\n",
       "      <td>3</td>\n",
       "      <td>-3</td>\n",
       "      <td>-1.000000</td>\n",
       "    </tr>\n",
       "    <tr>\n",
       "      <th>2</th>\n",
       "      <td>0</td>\n",
       "      <td>6</td>\n",
       "      <td>-6</td>\n",
       "      <td>-1.000000</td>\n",
       "    </tr>\n",
       "    <tr>\n",
       "      <th>5</th>\n",
       "      <td>0</td>\n",
       "      <td>15</td>\n",
       "      <td>-15</td>\n",
       "      <td>-1.000000</td>\n",
       "    </tr>\n",
       "    <tr>\n",
       "      <th>10</th>\n",
       "      <td>0</td>\n",
       "      <td>30</td>\n",
       "      <td>-30</td>\n",
       "      <td>-1.000000</td>\n",
       "    </tr>\n",
       "    <tr>\n",
       "      <th>15</th>\n",
       "      <td>0</td>\n",
       "      <td>45</td>\n",
       "      <td>-45</td>\n",
       "      <td>-1.000000</td>\n",
       "    </tr>\n",
       "    <tr>\n",
       "      <th>20</th>\n",
       "      <td>8</td>\n",
       "      <td>60</td>\n",
       "      <td>-52</td>\n",
       "      <td>-0.866667</td>\n",
       "    </tr>\n",
       "    <tr>\n",
       "      <th>25</th>\n",
       "      <td>8</td>\n",
       "      <td>75</td>\n",
       "      <td>-67</td>\n",
       "      <td>-0.893333</td>\n",
       "    </tr>\n",
       "    <tr>\n",
       "      <th>30</th>\n",
       "      <td>12</td>\n",
       "      <td>90</td>\n",
       "      <td>-78</td>\n",
       "      <td>-0.866667</td>\n",
       "    </tr>\n",
       "    <tr>\n",
       "      <th>40</th>\n",
       "      <td>16</td>\n",
       "      <td>120</td>\n",
       "      <td>-104</td>\n",
       "      <td>-0.866667</td>\n",
       "    </tr>\n",
       "    <tr>\n",
       "      <th>50</th>\n",
       "      <td>16</td>\n",
       "      <td>150</td>\n",
       "      <td>-134</td>\n",
       "      <td>-0.893333</td>\n",
       "    </tr>\n",
       "  </tbody>\n",
       "</table>\n",
       "</div>"
      ],
      "text/plain": [
       "         winnings  cost  profit       roi\n",
       "tickets                                  \n",
       "1               0     3      -3 -1.000000\n",
       "2               0     6      -6 -1.000000\n",
       "5               0    15     -15 -1.000000\n",
       "10              0    30     -30 -1.000000\n",
       "15              0    45     -45 -1.000000\n",
       "20              8    60     -52 -0.866667\n",
       "25              8    75     -67 -0.893333\n",
       "30             12    90     -78 -0.866667\n",
       "40             16   120    -104 -0.866667\n",
       "50             16   150    -134 -0.893333"
      ]
     },
     "execution_count": 25,
     "metadata": {},
     "output_type": "execute_result"
    }
   ],
   "source": [
    "tickets_powerplay.xs(\"Median Outcome\").sort_values(\"profit\", ascending=False)"
   ]
  },
  {
   "cell_type": "code",
   "execution_count": 26,
   "metadata": {
    "collapsed": false,
    "scrolled": true
   },
   "outputs": [
    {
     "data": {
      "text/html": [
       "<div>\n",
       "<table border=\"1\" class=\"dataframe\">\n",
       "  <thead>\n",
       "    <tr style=\"text-align: right;\">\n",
       "      <th></th>\n",
       "      <th>winnings</th>\n",
       "      <th>cost</th>\n",
       "      <th>profit</th>\n",
       "      <th>roi</th>\n",
       "    </tr>\n",
       "    <tr>\n",
       "      <th>tickets</th>\n",
       "      <th></th>\n",
       "      <th></th>\n",
       "      <th></th>\n",
       "      <th></th>\n",
       "    </tr>\n",
       "  </thead>\n",
       "  <tbody>\n",
       "    <tr>\n",
       "      <th>2</th>\n",
       "      <td>4</td>\n",
       "      <td>4</td>\n",
       "      <td>0</td>\n",
       "      <td>0.000000</td>\n",
       "    </tr>\n",
       "    <tr>\n",
       "      <th>1</th>\n",
       "      <td>0</td>\n",
       "      <td>2</td>\n",
       "      <td>-2</td>\n",
       "      <td>-1.000000</td>\n",
       "    </tr>\n",
       "    <tr>\n",
       "      <th>5</th>\n",
       "      <td>4</td>\n",
       "      <td>10</td>\n",
       "      <td>-6</td>\n",
       "      <td>-0.600000</td>\n",
       "    </tr>\n",
       "    <tr>\n",
       "      <th>10</th>\n",
       "      <td>8</td>\n",
       "      <td>20</td>\n",
       "      <td>-12</td>\n",
       "      <td>-0.600000</td>\n",
       "    </tr>\n",
       "    <tr>\n",
       "      <th>15</th>\n",
       "      <td>8</td>\n",
       "      <td>30</td>\n",
       "      <td>-22</td>\n",
       "      <td>-0.733333</td>\n",
       "    </tr>\n",
       "    <tr>\n",
       "      <th>20</th>\n",
       "      <td>11</td>\n",
       "      <td>40</td>\n",
       "      <td>-29</td>\n",
       "      <td>-0.725000</td>\n",
       "    </tr>\n",
       "    <tr>\n",
       "      <th>25</th>\n",
       "      <td>12</td>\n",
       "      <td>50</td>\n",
       "      <td>-38</td>\n",
       "      <td>-0.760000</td>\n",
       "    </tr>\n",
       "    <tr>\n",
       "      <th>30</th>\n",
       "      <td>15</td>\n",
       "      <td>60</td>\n",
       "      <td>-45</td>\n",
       "      <td>-0.750000</td>\n",
       "    </tr>\n",
       "    <tr>\n",
       "      <th>40</th>\n",
       "      <td>16</td>\n",
       "      <td>80</td>\n",
       "      <td>-64</td>\n",
       "      <td>-0.800000</td>\n",
       "    </tr>\n",
       "    <tr>\n",
       "      <th>50</th>\n",
       "      <td>20</td>\n",
       "      <td>100</td>\n",
       "      <td>-80</td>\n",
       "      <td>-0.800000</td>\n",
       "    </tr>\n",
       "  </tbody>\n",
       "</table>\n",
       "</div>"
      ],
      "text/plain": [
       "         winnings  cost  profit       roi\n",
       "tickets                                  \n",
       "2               4     4       0  0.000000\n",
       "1               0     2      -2 -1.000000\n",
       "5               4    10      -6 -0.600000\n",
       "10              8    20     -12 -0.600000\n",
       "15              8    30     -22 -0.733333\n",
       "20             11    40     -29 -0.725000\n",
       "25             12    50     -38 -0.760000\n",
       "30             15    60     -45 -0.750000\n",
       "40             16    80     -64 -0.800000\n",
       "50             20   100     -80 -0.800000"
      ]
     },
     "execution_count": 26,
     "metadata": {},
     "output_type": "execute_result"
    }
   ],
   "source": [
    "tickets_results.xs(\"95th Percentile\").sort_values(\"profit\", ascending=False)"
   ]
  },
  {
   "cell_type": "code",
   "execution_count": 27,
   "metadata": {
    "collapsed": false,
    "scrolled": true
   },
   "outputs": [
    {
     "data": {
      "text/html": [
       "<div>\n",
       "<table border=\"1\" class=\"dataframe\">\n",
       "  <thead>\n",
       "    <tr style=\"text-align: right;\">\n",
       "      <th></th>\n",
       "      <th>winnings</th>\n",
       "      <th>cost</th>\n",
       "      <th>profit</th>\n",
       "      <th>roi</th>\n",
       "    </tr>\n",
       "    <tr>\n",
       "      <th>tickets</th>\n",
       "      <th></th>\n",
       "      <th></th>\n",
       "      <th></th>\n",
       "      <th></th>\n",
       "    </tr>\n",
       "  </thead>\n",
       "  <tbody>\n",
       "    <tr>\n",
       "      <th>2</th>\n",
       "      <td>8</td>\n",
       "      <td>6</td>\n",
       "      <td>2</td>\n",
       "      <td>0.333333</td>\n",
       "    </tr>\n",
       "    <tr>\n",
       "      <th>1</th>\n",
       "      <td>0</td>\n",
       "      <td>3</td>\n",
       "      <td>-3</td>\n",
       "      <td>-1.000000</td>\n",
       "    </tr>\n",
       "    <tr>\n",
       "      <th>5</th>\n",
       "      <td>12</td>\n",
       "      <td>15</td>\n",
       "      <td>-3</td>\n",
       "      <td>-0.200000</td>\n",
       "    </tr>\n",
       "    <tr>\n",
       "      <th>10</th>\n",
       "      <td>20</td>\n",
       "      <td>30</td>\n",
       "      <td>-10</td>\n",
       "      <td>-0.333333</td>\n",
       "    </tr>\n",
       "    <tr>\n",
       "      <th>15</th>\n",
       "      <td>24</td>\n",
       "      <td>45</td>\n",
       "      <td>-21</td>\n",
       "      <td>-0.466667</td>\n",
       "    </tr>\n",
       "    <tr>\n",
       "      <th>20</th>\n",
       "      <td>32</td>\n",
       "      <td>60</td>\n",
       "      <td>-28</td>\n",
       "      <td>-0.466667</td>\n",
       "    </tr>\n",
       "    <tr>\n",
       "      <th>25</th>\n",
       "      <td>36</td>\n",
       "      <td>75</td>\n",
       "      <td>-39</td>\n",
       "      <td>-0.520000</td>\n",
       "    </tr>\n",
       "    <tr>\n",
       "      <th>30</th>\n",
       "      <td>38</td>\n",
       "      <td>90</td>\n",
       "      <td>-52</td>\n",
       "      <td>-0.577778</td>\n",
       "    </tr>\n",
       "    <tr>\n",
       "      <th>40</th>\n",
       "      <td>48</td>\n",
       "      <td>120</td>\n",
       "      <td>-72</td>\n",
       "      <td>-0.600000</td>\n",
       "    </tr>\n",
       "    <tr>\n",
       "      <th>50</th>\n",
       "      <td>60</td>\n",
       "      <td>150</td>\n",
       "      <td>-90</td>\n",
       "      <td>-0.600000</td>\n",
       "    </tr>\n",
       "  </tbody>\n",
       "</table>\n",
       "</div>"
      ],
      "text/plain": [
       "         winnings  cost  profit       roi\n",
       "tickets                                  \n",
       "2               8     6       2  0.333333\n",
       "1               0     3      -3 -1.000000\n",
       "5              12    15      -3 -0.200000\n",
       "10             20    30     -10 -0.333333\n",
       "15             24    45     -21 -0.466667\n",
       "20             32    60     -28 -0.466667\n",
       "25             36    75     -39 -0.520000\n",
       "30             38    90     -52 -0.577778\n",
       "40             48   120     -72 -0.600000\n",
       "50             60   150     -90 -0.600000"
      ]
     },
     "execution_count": 27,
     "metadata": {},
     "output_type": "execute_result"
    }
   ],
   "source": [
    "tickets_powerplay.xs(\"95th Percentile\").sort_values(\"profit\", ascending=False)"
   ]
  }
 ],
 "metadata": {
  "kernelspec": {
   "display_name": "Python 3",
   "language": "python",
   "name": "python3"
  },
  "language_info": {
   "codemirror_mode": {
    "name": "ipython",
    "version": 3
   },
   "file_extension": ".py",
   "mimetype": "text/x-python",
   "name": "python",
   "nbconvert_exporter": "python",
   "pygments_lexer": "ipython3",
   "version": "3.5.1"
  }
 },
 "nbformat": 4,
 "nbformat_minor": 0
}
